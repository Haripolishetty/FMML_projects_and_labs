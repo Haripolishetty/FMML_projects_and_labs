{
  "cells": [
    {
      "cell_type": "markdown",
      "metadata": {
        "id": "view-in-github",
        "colab_type": "text"
      },
      "source": [
        "<a href=\"https://colab.research.google.com/github/Haripolishetty/FMML_projects_and_labs/blob/main/SA2024_Week2_iitg.ipynb\" target=\"_parent\"><img src=\"https://colab.research.google.com/assets/colab-badge.svg\" alt=\"Open In Colab\"/></a>"
      ]
    },
    {
      "cell_type": "markdown",
      "metadata": {
        "id": "M0YYLw6N_KCE"
      },
      "source": [
        "# Summer Analytics 2024\n",
        "# WEEK-2 Graded Assignment: Linear Regression\n",
        "\n",
        "## Introduction\n",
        "\n",
        "In this exercise, you will implement linear regression and get to see it work on data. Before starting on this programming exercise, we strongly recommend watching the video lectures and completing the review questions for the associated topics.\n",
        "\n",
        "All the information you need for solving this assignment is in this notebook, and all the code you will be implementing will take place within this notebook..\n",
        "\n",
        "Before we begin with the exercises, we need to import all libraries required for this programming exercise. Throughout the course, we will be using [`numpy`](http://www.numpy.org/) for all arrays and matrix operations, and [`matplotlib`](https://matplotlib.org/) for plotting.\n"
      ]
    },
    {
      "cell_type": "code",
      "source": [
        "# Import necessary libraries\n",
        "import pandas as pd\n",
        "import numpy as np\n",
        "import matplotlib.pyplot as plt\n",
        "import seaborn as sns\n",
        "from sklearn.model_selection import train_test_split\n",
        "from sklearn.linear_model import LinearRegression\n",
        "from sklearn.metrics import mean_squared_error, r2_score"
      ],
      "metadata": {
        "id": "67jOS9fmW5KD"
      },
      "execution_count": 73,
      "outputs": []
    },
    {
      "cell_type": "code",
      "source": [
        "# Loading the dataset\n",
        "file_path = '/content/SA2024_W2_Profit.txt'\n",
        "data = pd.read_csv(file_path, header=None, names=['Population', 'Profit'])"
      ],
      "metadata": {
        "id": "GlZhNY3WXBaX"
      },
      "execution_count": 74,
      "outputs": []
    },
    {
      "cell_type": "code",
      "source": [
        "# Extract features and target\n",
        "X = data['Population'].values\n",
        "y = data['Profit'].values"
      ],
      "metadata": {
        "id": "ToFtOaYubqma"
      },
      "execution_count": 75,
      "outputs": []
    },
    {
      "source": [
        "X_b = np.c_[np.ones(X.shape[0]), X]"
      ],
      "cell_type": "code",
      "metadata": {
        "id": "irjQuSuIe2z1"
      },
      "execution_count": 76,
      "outputs": []
    },
    {
      "cell_type": "code",
      "source": [
        "# Exploring the dataset\n",
        "print(data.head())\n"
      ],
      "metadata": {
        "colab": {
          "base_uri": "https://localhost:8080/"
        },
        "id": "5Mh0tf5pXKNc",
        "outputId": "9f40112d-9c77-44b4-888c-e7f14c94c5fc"
      },
      "execution_count": 77,
      "outputs": [
        {
          "output_type": "stream",
          "name": "stdout",
          "text": [
            "   Population   Profit\n",
            "0      6.1101  17.5920\n",
            "1      5.5277   9.1302\n",
            "2      8.5186  13.6620\n",
            "3      7.0032  11.8540\n",
            "4      5.8598   6.8233\n"
          ]
        }
      ]
    },
    {
      "cell_type": "code",
      "source": [
        "print(data.describe())\n"
      ],
      "metadata": {
        "colab": {
          "base_uri": "https://localhost:8080/"
        },
        "id": "xWy40e0QXNtP",
        "outputId": "02d629ff-3329-4d3b-afff-cdcef9a53403"
      },
      "execution_count": 78,
      "outputs": [
        {
          "output_type": "stream",
          "name": "stdout",
          "text": [
            "       Population     Profit\n",
            "count   97.000000  97.000000\n",
            "mean     8.159800   5.839135\n",
            "std      3.869884   5.510262\n",
            "min      5.026900  -2.680700\n",
            "25%      5.707700   1.986900\n",
            "50%      6.589400   4.562300\n",
            "75%      8.578100   7.046700\n",
            "max     22.203000  24.147000\n"
          ]
        }
      ]
    },
    {
      "cell_type": "code",
      "source": [
        "print(data.info())"
      ],
      "metadata": {
        "colab": {
          "base_uri": "https://localhost:8080/"
        },
        "id": "5kWMey1ZXQq9",
        "outputId": "f0bb8bba-66b6-477f-e886-c67b2870d2ee"
      },
      "execution_count": 79,
      "outputs": [
        {
          "output_type": "stream",
          "name": "stdout",
          "text": [
            "<class 'pandas.core.frame.DataFrame'>\n",
            "RangeIndex: 97 entries, 0 to 96\n",
            "Data columns (total 2 columns):\n",
            " #   Column      Non-Null Count  Dtype  \n",
            "---  ------      --------------  -----  \n",
            " 0   Population  97 non-null     float64\n",
            " 1   Profit      97 non-null     float64\n",
            "dtypes: float64(2)\n",
            "memory usage: 1.6 KB\n",
            "None\n"
          ]
        }
      ]
    },
    {
      "cell_type": "code",
      "source": [
        "# Checking for missing values\n",
        "print(data.isnull().sum())"
      ],
      "metadata": {
        "colab": {
          "base_uri": "https://localhost:8080/"
        },
        "id": "p3wCalKQXT0-",
        "outputId": "948946c6-0f54-4f89-9d49-b743d1dc192b"
      },
      "execution_count": 80,
      "outputs": [
        {
          "output_type": "stream",
          "name": "stdout",
          "text": [
            "Population    0\n",
            "Profit        0\n",
            "dtype: int64\n"
          ]
        }
      ]
    },
    {
      "cell_type": "code",
      "source": [
        "# Visualizing the data\n",
        "sns.pairplot(data)\n",
        "plt.show()"
      ],
      "metadata": {
        "colab": {
          "base_uri": "https://localhost:8080/",
          "height": 513
        },
        "id": "2SAslVzuXV2z",
        "outputId": "6703c8ec-2080-47e7-92c8-8abf0a729740"
      },
      "execution_count": 81,
      "outputs": [
        {
          "output_type": "display_data",
          "data": {
            "text/plain": [
              "<Figure size 500x500 with 6 Axes>"
            ],
            "image/png": "[encoded data removed]"
          },
          "metadata": {}
        }
      ]
    },
    {
      "cell_type": "code",
      "source": [
        "# Correlation matrix\n",
        "plt.figure(figsize=(10, 8))\n",
        "sns.heatmap(data.corr(), annot=True, cmap='coolwarm')\n",
        "plt.show()"
      ],
      "metadata": {
        "colab": {
          "base_uri": "https://localhost:8080/",
          "height": 557
        },
        "id": "YLvSu0dsXbUx",
        "outputId": "cd6ac176-1708-452c-d2cb-6b85de37e852"
      },
      "execution_count": 82,
      "outputs": [
        {
          "output_type": "display_data",
          "data": {
            "text/plain": [
              "<Figure size 1000x800 with 2 Axes>"
            ],
            "image/png": "[encoded data removed]"
          },
          "metadata": {}
        }
      ]
    },
    {
      "cell_type": "code",
      "source": [
        "# Step 6: Preparing the data for modeling\n",
        "X = data[['Population']]  # Features\n",
        "y = data['Profit']\n"
      ],
      "metadata": {
        "id": "UImRr2gnXe03"
      },
      "execution_count": 83,
      "outputs": []
    },
    {
      "cell_type": "code",
      "source": [
        "# Splitting the data into training and testing sets\n",
        "X_train, X_test, y_train, y_test = train_test_split(X, y, test_size=0.2, random_state=42)\n",
        "\n",
        "# Building the linear regression model\n",
        "model = LinearRegression()\n",
        "model.fit(X_train, y_train)\n",
        "\n",
        "# Making predictions\n",
        "y_pred = model.predict(X_test)\n",
        "\n",
        "# Evaluating the model\n",
        "mse = mean_squared_error(y_test, y_pred)\n",
        "r2 = r2_score(y_test, y_pred)\n",
        "print(f'Mean Squared Error: {mse}')\n",
        "print(f'R-squared: {r2}')\n",
        "\n",
        "# Interpreting the results\n",
        "coefficients = pd.DataFrame(model.coef_, X.columns, columns=['Coefficient'])\n",
        "print(coefficients)"
      ],
      "metadata": {
        "colab": {
          "base_uri": "https://localhost:8080/"
        },
        "id": "dJs7pyvsb56w",
        "outputId": "ccbf30b2-aa7a-45dc-a536-a94700123bde"
      },
      "execution_count": 84,
      "outputs": [
        {
          "output_type": "stream",
          "name": "stdout",
          "text": [
            "Mean Squared Error: 15.709362447765187\n",
            "R-squared: 0.500344113338578\n",
            "            Coefficient\n",
            "Population     1.287529\n"
          ]
        }
      ]
    },
    {
      "cell_type": "code",
      "execution_count": 85,
      "metadata": {
        "id": "Rqms0xsm_KCF"
      },
      "outputs": [],
      "source": [
        "# used for manipulating directory paths\n",
        "import os\n",
        "\n",
        "# Scientific and vector computation for python\n",
        "import numpy as np\n",
        "\n",
        "# Plotting library\n",
        "from matplotlib import pyplot\n",
        "from mpl_toolkits.mplot3d import Axes3D  # needed to plot 3-D surfaces\n",
        "\n",
        "# tells matplotlib to embed plots within the notebook\n",
        "%matplotlib inline"
      ]
    },
    {
      "cell_type": "markdown",
      "metadata": {
        "id": "rbzq6tZr_KCJ"
      },
      "source": [
        "Complete the function to return an identity matrix of size 5."
      ]
    },
    {
      "cell_type": "code",
      "execution_count": 86,
      "metadata": {
        "id": "8EfxnhE2_KCJ",
        "colab": {
          "base_uri": "https://localhost:8080/"
        },
        "outputId": "697c14fa-37fe-4730-a1e4-046e505f3631"
      },
      "outputs": [
        {
          "output_type": "stream",
          "name": "stdout",
          "text": [
            "[[1. 0. 0. 0. 0.]\n",
            " [0. 1. 0. 0. 0.]\n",
            " [0. 0. 1. 0. 0.]\n",
            " [0. 0. 0. 1. 0.]\n",
            " [0. 0. 0. 0. 1.]]\n"
          ]
        }
      ],
      "source": [
        "def warmUpExercise():\n",
        "    \"\"\"Example function in Python which computes the identity matrix.\"\"\"\n",
        "    return np.eye(5)\n",
        "\n",
        "print(warmUpExercise())"
      ]
    },
    {
      "cell_type": "code",
      "execution_count": 87,
      "metadata": {
        "id": "gkqOdcLn_KCM",
        "colab": {
          "base_uri": "https://localhost:8080/"
        },
        "outputId": "661aaa89-60a2-4daa-a4bd-6626695502cd"
      },
      "outputs": [
        {
          "output_type": "execute_result",
          "data": {
            "text/plain": [
              "array([[1., 0., 0., 0., 0.],\n",
              "       [0., 1., 0., 0., 0.],\n",
              "       [0., 0., 1., 0., 0.],\n",
              "       [0., 0., 0., 1., 0.],\n",
              "       [0., 0., 0., 0., 1.]])"
            ]
          },
          "metadata": {},
          "execution_count": 87
        }
      ],
      "source": [
        "warmUpExercise()"
      ]
    },
    {
      "cell_type": "markdown",
      "metadata": {
        "id": "jDl4Msj9_KCM"
      },
      "source": [
        "Your output should match this\n",
        "\n",
        "[array([[ 1.,  0.,  0.,  0.,  0.],<br>\n",
        "       [ 0.,  1.,  0.,  0.,  0.],<br>\n",
        "       [ 0.,  0.,  1.,  0.,  0.],<br>\n",
        "       [ 0.,  0.,  0.,  1.,  0.],<br>\n",
        "       [ 0.,  0.,  0.,  0.,  1.]]))]"
      ]
    },
    {
      "cell_type": "markdown",
      "metadata": {
        "id": "cidgOF0__KCP"
      },
      "source": [
        "## 2 Linear regression with one variable\n",
        "\n",
        "Now you will implement linear regression with one variable to predict profits for a food truck. Suppose you are the CEO of a restaurant franchise and are considering different cities for opening a new outlet. The chain already has trucks in various cities and you have data for profits and populations from the cities. You would like to use this data to help you select which city to expand to next.\n",
        "\n",
        "The file `SA2024_W2_Profit.txt` contains the dataset for our linear regression problem. The first column is the population of a city (in 10,000s) and the second column is the profit of a food truck in that city (in $10,000s). A negative value for profit indicates a loss.\n",
        "\n",
        "We provide you with the code needed to load this data. The dataset is loaded from the data file into the variables `x` and `y`:"
      ]
    },
    {
      "cell_type": "code",
      "execution_count": 88,
      "metadata": {
        "id": "lLkbuDrM_KCP",
        "colab": {
          "base_uri": "https://localhost:8080/"
        },
        "outputId": "818678c4-1e3a-4370-b18d-beb1152a37fe"
      },
      "outputs": [
        {
          "output_type": "stream",
          "name": "stdout",
          "text": [
            "97\n"
          ]
        }
      ],
      "source": [
        "# Read comma separated data\n",
        "data = np.loadtxt(os.path.join('SA2024_W2_Profit.txt'), delimiter=',')\n",
        "X, y = data[:, 0], data[:, 1]\n",
        "\n",
        "m = y.size  # number of training examples\n",
        "print(m)"
      ]
    },
    {
      "cell_type": "markdown",
      "metadata": {
        "id": "06sqjf8D_KCS"
      },
      "source": [
        "### 2.1 Plotting the Data\n",
        "\n",
        "Before starting on any task, it is often useful to understand the data by visualizing it. For this dataset, you can use a scatter plot to visualize the data, since it has only two properties to plot (profit and population). Many other problems that you will encounter in real life are multi-dimensional and cannot be plotted on a 2-d plot. There are many plotting libraries in python (see this [blog post](https://blog.modeanalytics.com/python-data-visualization-libraries/) for a good summary of the most popular ones).\n",
        "\n",
        "In this course, we will be exclusively using `matplotlib` to do all our plotting. `matplotlib` is one of the most popular scientific plotting libraries in python and has extensive tools and functions to make beautiful plots. `pyplot` is a module within `matplotlib` which provides a simplified interface to `matplotlib`'s most common plotting tasks, mimicking MATLAB's plotting interface.\n",
        "\n",
        "<div class=\"alert alert-block alert-warning\">\n",
        "You might have noticed that we have imported the `pyplot` module at the beginning of this exercise using the command `from matplotlib import pyplot`. This is rather uncommon, and if you look at python code elsewhere or in the `matplotlib` tutorials, you will see that the module is named `plt`. This is used by module renaming by using the import command `import matplotlib.pyplot as plt`. We will not using the short name of `pyplot` module in this class exercises, but you should be aware of this deviation from norm.\n",
        "</div>\n",
        "\n",
        "\n",
        "In the following part, your first job is to complete the `plotData` function below. Modify the function and fill in the following code:\n",
        "\n",
        "```python\n",
        "    pyplot.plot(x, y, 'ro', ms=10, mec='k')\n",
        "    pyplot.ylabel('Profit in $10,000')\n",
        "    pyplot.xlabel('Population of City in 10,000s')\n",
        "```"
      ]
    },
    {
      "cell_type": "code",
      "execution_count": 89,
      "metadata": {
        "id": "mtBRxxhF_KCS"
      },
      "outputs": [],
      "source": [
        "def plotData(x, y):\n",
        "    \"\"\"\n",
        "    Plots the data points x and y into a new figure. Plots the data\n",
        "    points and gives the figure axes labels of population and profit.\n",
        "\n",
        "    Parameters\n",
        "    ----------\n",
        "    x : array_like\n",
        "        Data point values for x-axis.\n",
        "\n",
        "    y : array_like\n",
        "        Data point values for y-axis. Note x and y should have the same size.\n",
        "\n",
        "    Instructions\n",
        "    ------------\n",
        "    Plot the training data into a figure using the \"figure\" and \"plot\"\n",
        "    functions. Set the axes labels using the \"xlabel\" and \"ylabel\" functions.\n",
        "    Assume the population and revenue data have been passed in as the x\n",
        "    and y arguments of this function.\n",
        "\n",
        "    Hint\n",
        "    ----\n",
        "    You can use the 'ro' option with plot to have the markers\n",
        "    appear as red circles. Furthermore, you can make the markers larger by\n",
        "    using plot(..., 'ro', ms=10), where `ms` refers to marker size. You\n",
        "    can also set the marker edge color using the `mec` property.\n",
        "    \"\"\"\n",
        "    fig = pyplot.figure()  # open a new figure\n",
        "\n",
        "    # ====================== YOUR CODE HERE =======================\n",
        "\n",
        "\n",
        "    plt.plot(x, y, 'ro', ms=10, mec='k')\n",
        "    plt.ylabel('Profit in $10,000')\n",
        "    plt.xlabel('Population of City in 10,000s')\n",
        "    plt.show()\n",
        "\n",
        "\n",
        "    # =============================================================\n"
      ]
    },
    {
      "cell_type": "markdown",
      "metadata": {
        "id": "9gBFxSv4_KCV"
      },
      "source": [
        "Now run the defined function with the loaded data to visualize the data.\n",
        "\n",
        "![](Figures/dataset1.png)\n",
        "\n",
        "Execute the next cell to visualize the data."
      ]
    },
    {
      "cell_type": "code",
      "execution_count": 90,
      "metadata": {
        "id": "y4HqF5zT_KCV",
        "colab": {
          "base_uri": "https://localhost:8080/",
          "height": 449
        },
        "outputId": "042308df-f1b7-4e75-d2a5-b099cbd303b0"
      },
      "outputs": [
        {
          "output_type": "display_data",
          "data": {
            "text/plain": [
              "<Figure size 640x480 with 1 Axes>"
            ],
            "image/png": "[encoded data removed]"
          },
          "metadata": {}
        }
      ],
      "source": [
        "plotData(X, y)"
      ]
    },
    {
      "cell_type": "markdown",
      "metadata": {
        "id": "JNdFstlL_KCa"
      },
      "source": [
        "To quickly learn more about the `matplotlib` plot function and what arguments you can provide to it, you can type `?pyplot.plot` in a cell within the jupyter notebook. This opens a separate page showing the documentation for the requested function. You can also search online for plotting documentation.\n",
        "\n",
        "To set the markers to red circles, we used the option `'or'` within the `plot` function."
      ]
    },
    {
      "cell_type": "code",
      "execution_count": 91,
      "metadata": {
        "id": "vNUkRFE-_KCa"
      },
      "outputs": [],
      "source": [
        "# IF NEEDED YOU CAN UNCOMMENT THE BELOW LINE AND RUN TO LEARN MORE ABOUT THE FUNCTION\n",
        "?pyplot.plot"
      ]
    },
    {
      "cell_type": "markdown",
      "metadata": {
        "id": "kjXBs0ID_KCc"
      },
      "source": [
        "<a id=\"section2\"></a>\n",
        "### 2.2 Gradient Descent\n",
        "\n",
        "In this part, you will fit the linear regression parameters $\\theta$ to our dataset using gradient descent.\n",
        "\n",
        "#### 2.2.1 Update Equations\n",
        "\n",
        "The objective of linear regression is to minimize the cost function\n",
        "\n",
        "$$ J(\\theta) = \\frac{1}{2m} \\sum_{i=1}^m \\left( h_{\\theta}(x^{(i)}) - y^{(i)}\\right)^2$$\n",
        "\n",
        "where the hypothesis $h_\\theta(x)$ is given by the linear model\n",
        "$$ h_\\theta(x) = \\theta^Tx = \\theta_0 + \\theta_1 x_1$$\n",
        "\n",
        "Recall that the parameters of your model are the $\\theta_j$ values. These are\n",
        "the values you will adjust to minimize cost $J(\\theta)$. One way to do this is to\n",
        "use the batch gradient descent algorithm. In batch gradient descent, each\n",
        "iteration performs the update\n",
        "\n",
        "$$ \\theta_j = \\theta_j - \\alpha \\frac{1}{m} \\sum_{i=1}^m \\left( h_\\theta(x^{(i)}) - y^{(i)}\\right)x_j^{(i)} \\qquad \\text{simultaneously update } \\theta_j \\text{ for all } j$$\n",
        "\n",
        "With each step of gradient descent, your parameters $\\theta_j$ come closer to the optimal values that will achieve the lowest cost J($\\theta$).\n",
        "\n",
        "<div class=\"alert alert-block alert-warning\">\n",
        "**Implementation Note:** We store each example as a row in the the $X$ matrix in Python `numpy`. To take into account the intercept term ($\\theta_0$), we add an additional first column to $X$ and set it to all ones. This allows us to treat $\\theta_0$ as simply another 'feature'.\n",
        "</div>\n",
        "\n",
        "\n",
        "#### 2.2.2 Implementation\n",
        "\n",
        "We have already set up the data for linear regression. In the following cell, we add another dimension to our data to accommodate the $\\theta_0$ intercept term. Do NOT execute this cell more than once."
      ]
    },
    {
      "cell_type": "code",
      "execution_count": 92,
      "metadata": {
        "id": "p9n9P0wW_KCd"
      },
      "outputs": [],
      "source": [
        "# Add a column of ones to X. The numpy function stack joins arrays along a given axis.\n",
        "# The first axis (axis=0) refers to rows (training examples)\n",
        "# and second axis (axis=1) refers to columns (features).\n",
        "X = np.stack([np.ones(m), X], axis=1)"
      ]
    },
    {
      "cell_type": "markdown",
      "metadata": {
        "id": "4-KOAfJR_KCf"
      },
      "source": [
        "<a id=\"section2\"></a>\n",
        "#### 2.2.3 Computing the cost $J(\\theta)$\n",
        "\n",
        "As you perform gradient descent to learn minimize the cost function $J(\\theta)$, it is helpful to monitor the convergence by computing the cost. In this section, you will implement a function to calculate $J(\\theta)$ so you can check the convergence of your gradient descent implementation.\n",
        "\n",
        "Your next task is to complete the code for the function `computeCost` which computes $J(\\theta)$. As you are doing this, remember that the variables $X$ and $y$ are not scalar values. $X$ is a matrix whose rows represent the examples from the training set and $y$ is a vector whose each elemennt represent the value at a given row of $X$.\n",
        "<a id=\"computeCost\"></a>"
      ]
    },
    {
      "cell_type": "code",
      "execution_count": 93,
      "metadata": {
        "id": "0CSB132b_KCf",
        "colab": {
          "base_uri": "https://localhost:8080/"
        },
        "outputId": "2b6d08a4-f07b-4b0d-fa58-7a5c404a4c84"
      },
      "outputs": [
        {
          "output_type": "stream",
          "name": "stdout",
          "text": [
            "With theta = [ 0.69 -0.42], Cost computed = 60.535\n"
          ]
        }
      ],
      "source": [
        "def computeCost(X, y, theta):\n",
        "    \"\"\"\n",
        "    Compute cost for linear regression. Computes the cost of using theta as the\n",
        "    parameter for linear regression to fit the data points in X and y.\n",
        "    \"\"\"\n",
        "    m = y.size  # number of training examples\n",
        "    J = (1 / (2 * m)) * np.sum((X.dot(theta) - y) ** 2)\n",
        "    return J\n",
        "\n",
        "# Example theta values\n",
        "theta = np.array([0.69, -0.42])\n",
        "\n",
        "# Compute the cost\n",
        "J = computeCost(X_b, y, theta)\n",
        "print(f'With theta = {theta}, Cost computed = {J:.3f}')"
      ]
    },
    {
      "cell_type": "markdown",
      "metadata": {
        "id": "7tVbRXA4_KCi"
      },
      "source": [
        "Once you have completed the function, You can initialize $\\theta$ differently . You will see the cost printed to the screen."
      ]
    },
    {
      "cell_type": "code",
      "execution_count": 94,
      "metadata": {
        "id": "E_CwU1Zp_KCi",
        "colab": {
          "base_uri": "https://localhost:8080/"
        },
        "outputId": "781259c3-2a38-43de-b51d-7d2407f858e2"
      },
      "outputs": [
        {
          "output_type": "stream",
          "name": "stdout",
          "text": [
            "With theta = [-1,2] \n",
            "Cost computed =32.073\n"
          ]
        }
      ],
      "source": [
        "# YOU CAN CHANGE THE VALUE OF A,B FOR DIFFERENT INITIALIZATIONS OF THETA\n",
        "A = 0\n",
        "B = 0\n",
        "J = computeCost(X, y, theta=np.array([A, B]))\n",
        "print('With theta = [-1,2] \\nCost computed =%.3f' %J)\n"
      ]
    },
    {
      "cell_type": "markdown",
      "metadata": {
        "id": "4ChnU_FD_KCl"
      },
      "source": [
        "<a id=\"section3\"></a>\n",
        "#### 2.2.4 Gradient descent\n",
        "\n",
        "Next, you will complete a function which implements gradient descent.\n",
        "The loop structure has been written for you, and you only need to supply the updates to $\\theta$ within each iteration.\n",
        "\n",
        "As you program, make sure you understand what you are trying to optimize and what is being updated. Keep in mind that the cost $J(\\theta)$ is parameterized by the vector $\\theta$, not $X$ and $y$. That is, we minimize the value of $J(\\theta)$ by changing the values of the vector $\\theta$, not by changing $X$ or $y$. [Refer to the equations in this notebook](#section2) and to the video lectures if you are uncertain. A good way to verify that gradient descent is working correctly is to look at the value of $J(\\theta)$ and check that it is decreasing with each step.\n",
        "\n",
        "The starter code for the function `gradientDescent` calls `computeCost` on every iteration and saves the cost to a `python` list. Assuming you have implemented gradient descent and `computeCost` correctly, your value of $J(\\theta)$ should never increase, and should converge to a steady value by the end of the algorithm.\n",
        "\n",
        "<div class=\"alert alert-box alert-warning\">\n",
        "**Vectors and matrices in `numpy`** - Important implementation notes\n",
        "\n",
        "A vector in `numpy` is a one dimensional array, for example `np.array([1, 2, 3])` is a vector. A matrix in `numpy` is a two dimensional array, for example `np.array([[1, 2, 3], [4, 5, 6]])`. However, the following is still considered a matrix `np.array([[1, 2, 3]])` since it has two dimensions, even if it has a shape of 1x3 (which looks like a vector).\n",
        "\n",
        "Given the above, the function `np.dot` which we will use for all matrix/vector multiplication has the following properties:\n",
        "- It always performs inner products on vectors. If `x=np.array([1, 2, 3])`, then `np.dot(x, x)` is a scalar.\n",
        "- For matrix-vector multiplication, so if $X$ is a $m\\times n$ matrix and $y$ is a vector of length $m$, then the operation `np.dot(y, X)` considers $y$ as a $1 \\times m$ vector. On the other hand, if $y$ is a vector of length $n$, then the operation `np.dot(X, y)` considers $y$ as a $n \\times 1$ vector.\n",
        "- A vector can be promoted to a matrix using `y[None]` or `[y[np.newaxis]`. That is, if `y = np.array([1, 2, 3])` is a vector of size 3, then `y[None, :]` is a matrix of shape $1 \\times 3$. We can use `y[:, None]` to obtain a shape of $3 \\times 1$.\n",
        "<div>\n",
        "<a id=\"gradientDescent\"></a>"
      ]
    },
    {
      "cell_type": "code",
      "execution_count": 95,
      "metadata": {
        "id": "904i3ztS_KCl"
      },
      "outputs": [],
      "source": [
        "def gradientDescent(X, y, theta, alpha, num_iters):\n",
        "    \"\"\"\n",
        "    Performs gradient descent to learn `theta`. Updates theta by taking `num_iters`\n",
        "    gradient steps with learning rate `alpha`.\n",
        "\n",
        "    Parameters\n",
        "    ----------\n",
        "    X : array_like\n",
        "        The input dataset of shape (m x n+1).\n",
        "\n",
        "    y : arra_like\n",
        "        Value at given features. A vector of shape (m, ).\n",
        "\n",
        "    theta : array_like\n",
        "        Initial values for the linear regression parameters.\n",
        "        A vector of shape (n+1, ).\n",
        "\n",
        "    alpha : float\n",
        "        The learning rate.\n",
        "\n",
        "    num_iters : int\n",
        "        The number of iterations for gradient descent.\n",
        "\n",
        "    Returns\n",
        "    -------\n",
        "    theta : array_like\n",
        "        The learned linear regression parameters. A vector of shape (n+1, ).\n",
        "\n",
        "    J_history : list\n",
        "        A python list for the values of the cost function after each iteration.\n",
        "\n",
        "    Instructions\n",
        "    ------------\n",
        "    Peform a single gradient step on the parameter vector theta.\n",
        "\n",
        "    While debugging, it can be useful to print out the values of\n",
        "    the cost function (computeCost) and gradient here.\n",
        "    \"\"\"\n",
        "    # Initialize some useful values\n",
        "    m = y.shape[0]  # number of training examples\n",
        "\n",
        "    # make a copy of theta, to avoid changing the original array, since numpy arrays\n",
        "    # are passed by reference to functions\n",
        "    theta = theta.copy()\n",
        "\n",
        "    J_history = [] # Use a python list to save cost in every iteration\n",
        "\n",
        "    for i in range(num_iters):\n",
        "        # ==================== YOUR CODE HERE =================================\n",
        "        gradients = (1/m) * X.T.dot(X.dot(theta) - y)\n",
        "        theta = theta - alpha * gradients\n",
        "\n",
        "        # =====================================================================\n",
        "\n",
        "        # save the cost J in every iteration\n",
        "        J_history.append(computeCost(X, y, theta))\n",
        "\n",
        "    return theta, J_history"
      ]
    },
    {
      "cell_type": "markdown",
      "metadata": {
        "id": "VcqHtO8L_KCn"
      },
      "source": [
        "After you are finished call the implemented `gradientDescent` function and print the computed $\\theta$. We initialize the $\\theta$ parameters to 0 and the learning rate $\\alpha$ to 0.01. Execute the following cell to check your code."
      ]
    },
    {
      "cell_type": "code",
      "execution_count": 96,
      "metadata": {
        "id": "NfzadPye_KCo"
      },
      "outputs": [],
      "source": [
        "# initialize fitting parameters\n",
        "# FEEL FREE TO CHANGE ANY PARAMETER\n",
        "A = 2.0\n",
        "B = -1.0\n",
        "theta = np.array([A,B])\n",
        "\n",
        "# some gradient descent settings\n",
        "iterations = 1500\n",
        "alpha = 0.001\n",
        "\n",
        "\n"
      ]
    },
    {
      "cell_type": "code",
      "source": [
        "theta, J_history = gradientDescent(X_b, data['Profit'], theta, alpha, iterations)"
      ],
      "metadata": {
        "id": "2zJSzVKajr_9",
        "colab": {
          "base_uri": "https://localhost:8080/",
          "height": 207
        },
        "outputId": "64be2b8e-4405-46c9-c297-3dc4a1c6f1c0"
      },
      "execution_count": 97,
      "outputs": [
        {
          "output_type": "error",
          "ename": "IndexError",
          "evalue": "only integers, slices (`:`), ellipsis (`...`), numpy.newaxis (`None`) and integer or boolean arrays are valid indices",
          "traceback": [
            "\u001b[0;31m---------------------------------------------------------------------------\u001b[0m",
            "\u001b[0;31mIndexError\u001b[0m                                Traceback (most recent call last)",
            "\u001b[0;32m<ipython-input-97-2efed2d96707>\u001b[0m in \u001b[0;36m<cell line: 1>\u001b[0;34m()\u001b[0m\n\u001b[0;32m----> 1\u001b[0;31m \u001b[0mtheta\u001b[0m\u001b[0;34m,\u001b[0m \u001b[0mJ_history\u001b[0m \u001b[0;34m=\u001b[0m \u001b[0mgradientDescent\u001b[0m\u001b[0;34m(\u001b[0m\u001b[0mX_b\u001b[0m\u001b[0;34m,\u001b[0m \u001b[0mdata\u001b[0m\u001b[0;34m[\u001b[0m\u001b[0;34m'Profit'\u001b[0m\u001b[0;34m]\u001b[0m\u001b[0;34m,\u001b[0m \u001b[0mtheta\u001b[0m\u001b[0;34m,\u001b[0m \u001b[0malpha\u001b[0m\u001b[0;34m,\u001b[0m \u001b[0miterations\u001b[0m\u001b[0;34m)\u001b[0m\u001b[0;34m\u001b[0m\u001b[0;34m\u001b[0m\u001b[0m\n\u001b[0m",
            "\u001b[0;31mIndexError\u001b[0m: only integers, slices (`:`), ellipsis (`...`), numpy.newaxis (`None`) and integer or boolean arrays are valid indices"
          ]
        }
      ]
    },
    {
      "cell_type": "code",
      "execution_count": 98,
      "metadata": {
        "id": "CDGtpQA4_KCq",
        "colab": {
          "base_uri": "https://localhost:8080/",
          "height": 862
        },
        "outputId": "c2dbb5d7-131b-4ae7-b27b-e28129b8bb15"
      },
      "outputs": [
        {
          "output_type": "display_data",
          "data": {
            "text/plain": [
              "<Figure size 640x480 with 1 Axes>"
            ],
            "image/png": "[encoded data removed]"
          },
          "metadata": {}
        },
        {
          "output_type": "display_data",
          "data": {
            "text/plain": [
              "<Figure size 640x480 with 1 Axes>"
            ],
            "image/png": "[encoded data removed]"
          },
          "metadata": {}
        }
      ],
      "source": [
        "# plot the linear fit\n",
        "plotData(X[:, 1], y)\n",
        "pyplot.plot(X[:, 1], np.dot(X, theta), '-')\n",
        "pyplot.legend(['Training data', 'Linear regression']);"
      ]
    },
    {
      "cell_type": "markdown",
      "metadata": {
        "id": "U9shyrD8_KCq"
      },
      "source": [
        "<h5>We will use your final parameters to plot the linear fit. The results should look like the following figure.</h5>\n",
        "<img src=\"https://i.ibb.co/FY8L2mn/graph-w3.png\">"
      ]
    },
    {
      "cell_type": "markdown",
      "metadata": {
        "id": "JmrCXl34_KCs"
      },
      "source": [
        "Your final values for $\\theta$ will also be used to make predictions on profits in areas of 35,000 and 70,000 people.\n",
        "\n",
        "<div class=\"alert alert-block alert-success\">\n",
        "Note the way that the following lines use matrix multiplication, rather than explicit summation or looping, to calculate the predictions. This is an example of code vectorization in `numpy`.\n",
        "</div>\n",
        "\n",
        "<div class=\"alert alert-block alert-success\">\n",
        "Note that the first argument to the `numpy` function `dot` is a python list. `numpy` can internally converts **valid** python lists to numpy arrays when explicitly provided as arguments to `numpy` functions.\n",
        "</div>\n"
      ]
    },
    {
      "cell_type": "code",
      "execution_count": 99,
      "metadata": {
        "id": "jcMSJyvI_KCs",
        "colab": {
          "base_uri": "https://localhost:8080/"
        },
        "outputId": "bfb139cc-07dc-4686-ab31-0a4479ca392b"
      },
      "outputs": [
        {
          "output_type": "stream",
          "name": "stdout",
          "text": [
            "For population = 3.5\n",
            "we predict a profit of -1.50\n",
            "\n"
          ]
        }
      ],
      "source": [
        "# Now you can predict values for various population sizes.\n",
        "population_size = 3.5\n",
        "\n",
        "predict1 = np.dot([1, population_size], theta)\n",
        "print('For population = ' + str(population_size))\n",
        "print('we predict a profit of {:.2f}\\n'.format(predict1))"
      ]
    },
    {
      "cell_type": "code",
      "execution_count": 100,
      "metadata": {
        "id": "ry_f-5rxDRoE",
        "colab": {
          "base_uri": "https://localhost:8080/"
        },
        "outputId": "c07a7e58-5c90-4638-87eb-8cb8712436c0"
      },
      "outputs": [
        {
          "output_type": "stream",
          "name": "stdout",
          "text": [
            "For population = 7\n",
            "we predict a profit of -5.00\n",
            "\n"
          ]
        }
      ],
      "source": [
        "# Now you can predict values for various population sizes.\n",
        "population_size = 7\n",
        "\n",
        "predict1 = np.dot([1, population_size], theta)\n",
        "print('For population = ' + str(population_size))\n",
        "print('we predict a profit of {:.2f}\\n'.format(predict1))"
      ]
    },
    {
      "cell_type": "code",
      "execution_count": 101,
      "metadata": {
        "id": "9IkHup7oDRoE",
        "colab": {
          "base_uri": "https://localhost:8080/"
        },
        "outputId": "bafdf52a-25eb-436e-a7b8-d50991c0b6cc"
      },
      "outputs": [
        {
          "output_type": "execute_result",
          "data": {
            "text/plain": [
              "-115000.0"
            ]
          },
          "metadata": {},
          "execution_count": 101
        }
      ],
      "source": [
        "population = 135000 / 10000  # convert to scale of 10,000s\n",
        "predicted_profit = np.dot([1, population], theta)\n",
        "predicted_profit_dollars = predicted_profit * 10000\n",
        "predicted_profit_dollars"
      ]
    },
    {
      "cell_type": "code",
      "source": [
        "population = 80000 / 10000  # convert to scale of 10,000s\n",
        "predicted_profit = np.dot([1, population], theta)\n",
        "predicted_profit_dollars = predicted_profit * 10000  # convert back to dollars\n",
        "\n",
        "predicted_profit_dollars"
      ],
      "metadata": {
        "colab": {
          "base_uri": "https://localhost:8080/"
        },
        "id": "P1hR1TmWiw3V",
        "outputId": "21894eea-a856-423a-8eed-940322284cd1"
      },
      "execution_count": 102,
      "outputs": [
        {
          "output_type": "execute_result",
          "data": {
            "text/plain": [
              "-60000.0"
            ]
          },
          "metadata": {},
          "execution_count": 102
        }
      ]
    },
    {
      "cell_type": "code",
      "source": [],
      "metadata": {
        "id": "2_YTLYLVtWBO"
      },
      "execution_count": 102,
      "outputs": []
    }
  ],
  "metadata": {
    "colab": {
      "provenance": [],
      "include_colab_link": true
    },
    "kernelspec": {
      "display_name": "Python 3",
      "language": "python",
      "name": "python3"
    },
    "language_info": {
      "codemirror_mode": {
        "name": "ipython",
        "version": 3
      },
      "file_extension": ".py",
      "mimetype": "text/x-python",
      "name": "python",
      "nbconvert_exporter": "python",
      "pygments_lexer": "ipython3",
      "version": "3.7.6"
    }
  },
  "nbformat": 4,
  "nbformat_minor": 0
}