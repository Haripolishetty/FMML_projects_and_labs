{
  "nbformat": 4,
  "nbformat_minor": 0,
  "metadata": {
    "colab": {
      "provenance": [],
      "include_colab_link": true
    },
    "kernelspec": {
      "name": "python3",
      "display_name": "Python 3"
    },
    "language_info": {
      "name": "python"
    }
  },
  "cells": [
    {
      "cell_type": "markdown",
      "metadata": {
        "id": "view-in-github",
        "colab_type": "text"
      },
      "source": [
        "<a href=\"https://colab.research.google.com/github/Haripolishetty/FMML_projects_and_labs/blob/main/Module_01_Lab_02_ML.ipynb\" target=\"_parent\"><img src=\"https://colab.research.google.com/assets/colab-badge.svg\" alt=\"Open In Colab\"/></a>"
      ]
    },
    {
      "cell_type": "markdown",
      "metadata": {
        "id": "3Eu9VZbF01eq"
      },
      "source": [
        "# Machine learning terms and metrics\n",
        "\n",
        "FMML Module 1, Lab 2<br>\n",
        "\n",
        "\n",
        "  part of ML pipeline by extracting features, training and testing"
      ]
    },
    {
      "cell_type": "markdown",
      "source": [
        "HARI POLISHETTY"
      ],
      "metadata": {
        "id": "ZeKotEqBTvza"
      }
    },
    {
      "cell_type": "code",
      "metadata": {
        "id": "8qBvyEem0vLi"
      },
      "source": [
        "# importing necessary libraries\n",
        "import matplotlib.pyplot as plt\n",
        "import numpy as np\n",
        "from sklearn import datasets\n",
        "# set randomseed\n",
        "rng = np.random.default_rng(seed=42) #random number generator and setting seed value to 42(initial)"
      ],
      "execution_count": 2,
      "outputs": []
    },
    {
      "cell_type": "markdown",
      "metadata": {
        "id": "u3t59g5s1HfC"
      },
      "source": [
        "In this lab, we will use the California Housing dataset. There are 20640 samples, each with 8 attributes like income of the block, age of the houses per district etc. The task is to predict the cost of the houses per district.\n",
        "\n",
        "Let us download and examine the dataset."
      ]
    },
    {
      "cell_type": "code",
      "metadata": {
        "id": "8LpqjN991GGJ",
        "colab": {
          "base_uri": "https://localhost:8080/"
        },
        "outputId": "853bcc2b-d5ef-43e4-a74d-a0a480523a0a"
      },
      "source": [
        " dataset =  datasets.fetch_california_housing()\n",
        " #to know more about this dataset\n",
        " print(dataset.DESCR)\n",
        " #to know what else is there in this dataset\n",
        " print(dataset.keys())\n",
        " #Data preprocessing\n",
        " dataset.target = dataset.target.astype(np.int) # so that we can classify(you want your machine learning model to predict based on the features (input data).)\n",
        " print(dataset.data.shape)\n",
        " print(dataset.target.shape)"
      ],
      "execution_count": 5,
      "outputs": [
        {
          "output_type": "stream",
          "name": "stdout",
          "text": [
            ".. _california_housing_dataset:\n",
            "\n",
            "California Housing dataset\n",
            "--------------------------\n",
            "\n",
            "**Data Set Characteristics:**\n",
            "\n",
            "    :Number of Instances: 20640\n",
            "\n",
            "    :Number of Attributes: 8 numeric, predictive attributes and the target\n",
            "\n",
            "    :Attribute Information:\n",
            "        - MedInc        median income in block group\n",
            "        - HouseAge      median house age in block group\n",
            "        - AveRooms      average number of rooms per household\n",
            "        - AveBedrms     average number of bedrooms per household\n",
            "        - Population    block group population\n",
            "        - AveOccup      average number of household members\n",
            "        - Latitude      block group latitude\n",
            "        - Longitude     block group longitude\n",
            "\n",
            "    :Missing Attribute Values: None\n",
            "\n",
            "This dataset was obtained from the StatLib repository.\n",
            "https://www.dcc.fc.up.pt/~ltorgo/Regression/cal_housing.html\n",
            "\n",
            "The target variable is the median house value for California districts,\n",
            "expressed in hundreds of thousands of dollars ($100,000).\n",
            "\n",
            "This dataset was derived from the 1990 U.S. census, using one row per census\n",
            "block group. A block group is the smallest geographical unit for which the U.S.\n",
            "Census Bureau publishes sample data (a block group typically has a population\n",
            "of 600 to 3,000 people).\n",
            "\n",
            "A household is a group of people residing within a home. Since the average\n",
            "number of rooms and bedrooms in this dataset are provided per household, these\n",
            "columns may take surprisingly large values for block groups with few households\n",
            "and many empty houses, such as vacation resorts.\n",
            "\n",
            "It can be downloaded/loaded using the\n",
            ":func:`sklearn.datasets.fetch_california_housing` function.\n",
            "\n",
            ".. topic:: References\n",
            "\n",
            "    - Pace, R. Kelley and Ronald Barry, Sparse Spatial Autoregressions,\n",
            "      Statistics and Probability Letters, 33 (1997) 291-297\n",
            "\n",
            "dict_keys(['data', 'target', 'frame', 'target_names', 'feature_names', 'DESCR'])\n",
            "(20640, 8)\n",
            "(20640,)\n"
          ]
        },
        {
          "output_type": "stream",
          "name": "stderr",
          "text": [
            "<ipython-input-5-75927fec3c86>:7: DeprecationWarning: `np.int` is a deprecated alias for the builtin `int`. To silence this warning, use `int` by itself. Doing this will not modify any behavior and is safe. When replacing `np.int`, you may wish to use e.g. `np.int64` or `np.int32` to specify the precision. If you wish to review your current use, check the release note link for additional information.\n",
            "Deprecated in NumPy 1.20; for more details and guidance: https://numpy.org/devdocs/release/1.20.0-notes.html#deprecations\n",
            "  dataset.target = dataset.target.astype(np.int) # so that we can classify(you want your machine learning model to predict based on the features (input data).)\n"
          ]
        }
      ]
    },
    {
      "cell_type": "markdown",
      "metadata": {
        "id": "iNx4174W5xRg"
      },
      "source": [
        "Here is a function for calculating the 1-nearest neighbours"
      ]
    },
    {
      "cell_type": "code",
      "metadata": {
        "id": "07zpydQj1hIQ"
      },
      "source": [
        "def NN1(traindata, trainlabel, query):\n",
        "  #k is set to 1 so that it finds the single nearest neighbor to each data point in the test dataset.\n",
        "  diff  = traindata - query  # find the difference between features. Numpy automatically takes care of the size here\n",
        "  sq = diff*diff # square the differences(squared eucledian distance )\n",
        "  dist = sq.sum(1) # add up the squares\n",
        "  label = trainlabel[np.argmin(dist)] # our predicted label is the label of the training data which has the least distance from the query(index)\n",
        "  return label\n",
        "#here NN is using NN1\n",
        "def NN(traindata, trainlabel, testdata):\n",
        "  # we will run nearest neighbour for each sample in the test data\n",
        "  # and collect the predicted classes in an array using list comprehension\n",
        "  predlabel = np.array([NN1(traindata, trainlabel, i) for i in testdata])\n",
        "  return predlabel"
      ],
      "execution_count": 7,
      "outputs": []
    },
    {
      "cell_type": "markdown",
      "metadata": {
        "id": "03JktkfIGaje"
      },
      "source": [
        "We will also define a 'random classifier', which randomly allots labels to each sample"
      ]
    },
    {
      "cell_type": "code",
      "metadata": {
        "id": "fogWAtjyGhAH"
      },
      "source": [
        "def RandomClassifier(traindata, trainlabel, testdata):\n",
        "  # in reality, we don't need these arguments\n",
        "\n",
        "  classes = np.unique(trainlabel)\n",
        "  rints = rng.integers(low=0, high=len(classes), size=len(testdata))#low = inclusive ,high = exclusive\n",
        "  predlabel = classes[rints]\n",
        "  return predlabel"
      ],
      "execution_count": 9,
      "outputs": []
    },
    {
      "cell_type": "markdown",
      "metadata": {
        "id": "1Hjf1KHs7fU5"
      },
      "source": [
        "Let us define a metric 'Accuracy' to see how good our learning algorithm is. Accuracy is the ratio of the number of correctly classified samples to the total number of samples. The higher the accuracy, the better the algorithm."
      ]
    },
    {
      "cell_type": "code",
      "metadata": {
        "id": "ouuCqWU07bz-"
      },
      "source": [
        "def Accuracy(gtlabel, predlabel):\n",
        "  assert len(gtlabel)==len(predlabel), \"Length of the groundtruth labels and predicted labels should be the same\"\n",
        "  correct = (gtlabel==predlabel).sum() # count the number of times the groundtruth label is equal to the predicted label.\n",
        "  return correct/len(gtlabel)"
      ],
      "execution_count": 10,
      "outputs": []
    },
    {
      "cell_type": "markdown",
      "metadata": {
        "id": "4vJFwBFa9Klw"
      },
      "source": [
        "Let us make a function to split the dataset with the desired probability."
      ]
    },
    {
      "cell_type": "code",
      "metadata": {
        "id": "Ko0VzpSM2Tdi"
      },
      "source": [
        "def split(data, label, percent):\n",
        "  # generate a random number for each sample\n",
        "  rnd = rng.random(len(label))\n",
        "  #create boolean arrays based on the random numbers\n",
        "  split1 = rnd<percent\n",
        "  split2 = rnd>=percent\n",
        "  #extract data and labels for the splits\n",
        "  split1data = data[split1,:]\n",
        "  split1label = label[split1]\n",
        "  split2data = data[split2,:]\n",
        "  split2label = label[split2]\n",
        "  return split1data, split1label, split2data, split2label"
      ],
      "execution_count": 11,
      "outputs": []
    },
    {
      "cell_type": "markdown",
      "metadata": {
        "id": "AcK3LEAJ_LGC"
      },
      "source": [
        "We will reserve 20% of our dataset as the test set. We will not change this portion throughout our experiments"
      ]
    },
    {
      "cell_type": "code",
      "metadata": {
        "id": "bBZkHBLJ1iU-",
        "colab": {
          "base_uri": "https://localhost:8080/"
        },
        "outputId": "df5e332c-49b3-46a4-bed1-919458db5fc4"
      },
      "source": [
        "testdata, testlabel, alltraindata, alltrainlabel = split(dataset.data, dataset.target, 20/100)\n",
        "print('Number of test samples = ', len(testlabel))\n",
        "print('Number of other samples = ', len(alltrainlabel))\n",
        "print('Percent of test data = ', len(testlabel)*100/len(dataset.target),'%')"
      ],
      "execution_count": 12,
      "outputs": [
        {
          "output_type": "stream",
          "name": "stdout",
          "text": [
            "Number of test samples =  4144\n",
            "Number of other samples =  16496\n",
            "Percent of test data =  20.07751937984496 %\n"
          ]
        }
      ]
    },
    {
      "cell_type": "markdown",
      "metadata": {
        "id": "a6Ss0Z6IAGNV"
      },
      "source": [
        "## Experiments with splits\n",
        "\n",
        "Let us reserve some of our train data as a validation set"
      ]
    },
    {
      "cell_type": "code",
      "metadata": {
        "id": "WFew2iry_7W7"
      },
      "source": [
        "traindata, trainlabel, valdata, vallabel = split(alltraindata, alltrainlabel, 75/100)"
      ],
      "execution_count": 13,
      "outputs": []
    },
    {
      "cell_type": "markdown",
      "metadata": {
        "id": "60hiu4clFN1i"
      },
      "source": [
        "What is the accuracy of our classifiers on the train dataset?"
      ]
    },
    {
      "cell_type": "code",
      "metadata": {
        "id": "DBlZDTHUFTZx",
        "colab": {
          "base_uri": "https://localhost:8080/"
        },
        "outputId": "529f150e-d512-4a31-b59b-2d45064f999a"
      },
      "source": [
        "trainpred = NN(traindata, trainlabel, traindata)\n",
        "trainAccuracy = Accuracy(trainlabel, trainpred)\n",
        "print(\"Train accuracy using nearest neighbour is \", trainAccuracy)\n",
        "\n",
        "trainpred = RandomClassifier(traindata, trainlabel, traindata)\n",
        "trainAccuracy = Accuracy(trainlabel, trainpred)\n",
        "print(\"Train accuracy using random classifier is \", trainAccuracy)"
      ],
      "execution_count": 14,
      "outputs": [
        {
          "output_type": "stream",
          "name": "stdout",
          "text": [
            "Train accuracy using nearest neighbour is  1.0\n",
            "Train accuracy using random classifier is  0.164375808538163\n"
          ]
        }
      ]
    },
    {
      "cell_type": "markdown",
      "metadata": {
        "id": "7h08-9gJDtSy"
      },
      "source": [
        "For nearest neighbour, the train accuracy is always 1. The accuracy of the random classifier is close to 1/(number of classes) which is 0.1666 in our case.\n",
        "\n",
        "Let us predict the labels for our validation set and get the accuracy"
      ]
    },
    {
      "cell_type": "code",
      "metadata": {
        "id": "4h7bXoW_2H3v",
        "colab": {
          "base_uri": "https://localhost:8080/"
        },
        "outputId": "f9e31e36-1a49-442c-e45b-337adc7713b6"
      },
      "source": [
        "valpred = NN(traindata, trainlabel, valdata)\n",
        "valAccuracy = Accuracy(vallabel, valpred)\n",
        "print(\"Validation accuracy using nearest neighbour is \", valAccuracy)\n",
        "\n",
        "valpred = RandomClassifier(traindata, trainlabel, valdata)\n",
        "valAccuracy = Accuracy(vallabel, valpred)\n",
        "print(\"Validation accuracy using random classifier is \", valAccuracy)"
      ],
      "execution_count": 15,
      "outputs": [
        {
          "output_type": "stream",
          "name": "stdout",
          "text": [
            "Validation accuracy using nearest neighbour is  0.34108527131782945\n",
            "Validation accuracy using random classifier is  0.1688468992248062\n"
          ]
        }
      ]
    },
    {
      "cell_type": "markdown",
      "metadata": {
        "id": "py9bLguFEjfg"
      },
      "source": [
        "Validation accuracy of nearest neighbour is considerably less than its train accuracy while the validation accuracy of random classifier is the same. However, the validation accuracy of nearest neighbour is twice that of the random classifier.\n",
        "\n",
        "Now let us try another random split and check the validation accuracy"
      ]
    },
    {
      "cell_type": "code",
      "metadata": {
        "id": "ujm3cyYzEntE",
        "colab": {
          "base_uri": "https://localhost:8080/"
        },
        "outputId": "6b322ccb-c76f-4f89-8fee-7ec5937acb26"
      },
      "source": [
        "traindata, trainlabel, valdata, vallabel = split(alltraindata, alltrainlabel, 75/100)\n",
        "valpred = NN(traindata, trainlabel, valdata)\n",
        "valAccuracy = Accuracy(vallabel, valpred)\n",
        "print(\"Validation accuracy of nearest neighbour is \", valAccuracy)"
      ],
      "execution_count": 16,
      "outputs": [
        {
          "output_type": "stream",
          "name": "stdout",
          "text": [
            "Validation accuracy of nearest neighbour is  0.34048257372654156\n"
          ]
        }
      ]
    },
    {
      "cell_type": "code",
      "source": [
        "traindata, trainlabel, valdata, vallabel = split(alltraindata, alltrainlabel, 0.85)\n",
        "valpred = NN(traindata, trainlabel, valdata)\n",
        "valAccuracy = Accuracy(vallabel, valpred)\n",
        "print(\"Validation accuracy of nearest neighbour is \", valAccuracy)"
      ],
      "metadata": {
        "colab": {
          "base_uri": "https://localhost:8080/"
        },
        "id": "m7fS9iXQZDrI",
        "outputId": "9937dde0-2ffd-47fa-a9e7-516526d95793"
      },
      "execution_count": 17,
      "outputs": [
        {
          "output_type": "stream",
          "name": "stdout",
          "text": [
            "Validation accuracy of nearest neighbour is  0.3585055643879173\n"
          ]
        }
      ]
    },
    {
      "cell_type": "code",
      "source": [
        "traindata, trainlabel, valdata, vallabel = split(alltraindata, alltrainlabel, 0.95)\n",
        "valpred = NN(traindata, trainlabel, valdata)\n",
        "valAccuracy = Accuracy(vallabel, valpred)\n",
        "print(\"Validation accuracy of nearest neighbour is \", valAccuracy)"
      ],
      "metadata": {
        "colab": {
          "base_uri": "https://localhost:8080/"
        },
        "id": "7T5nSQ5wZD0c",
        "outputId": "393e6a55-2f5e-4fe7-9afc-7210fcfbbb68"
      },
      "execution_count": 18,
      "outputs": [
        {
          "output_type": "stream",
          "name": "stdout",
          "text": [
            "Validation accuracy of nearest neighbour is  0.36140350877192984\n"
          ]
        }
      ]
    },
    {
      "cell_type": "code",
      "source": [
        "traindata, trainlabel, valdata, vallabel = split(alltraindata, alltrainlabel, 0.99)\n",
        "valpred = NN(traindata, trainlabel, valdata)\n",
        "valAccuracy = Accuracy(vallabel, valpred)\n",
        "print(\"Validation accuracy of nearest neighbour is \", valAccuracy)"
      ],
      "metadata": {
        "colab": {
          "base_uri": "https://localhost:8080/"
        },
        "id": "mM5SDkw-ZOJf",
        "outputId": "ab50524a-80f2-470e-cc31-af5fecd9fe84"
      },
      "execution_count": 19,
      "outputs": [
        {
          "output_type": "stream",
          "name": "stdout",
          "text": [
            "Validation accuracy of nearest neighbour is  0.2994350282485876\n"
          ]
        }
      ]
    },
    {
      "cell_type": "code",
      "source": [
        "traindata, trainlabel, valdata, vallabel = split(alltraindata, alltrainlabel, 0.5)\n",
        "valpred = NN(traindata, trainlabel, valdata)\n",
        "valAccuracy = Accuracy(vallabel, valpred)\n",
        "print(\"Validation accuracy of nearest neighbour is \", valAccuracy)"
      ],
      "metadata": {
        "colab": {
          "base_uri": "https://localhost:8080/"
        },
        "id": "hQkzEIoHZOMf",
        "outputId": "e6ab8223-d335-42e1-fee3-827df2d8b147"
      },
      "execution_count": 20,
      "outputs": [
        {
          "output_type": "stream",
          "name": "stdout",
          "text": [
            "Validation accuracy of nearest neighbour is  0.3367272727272727\n"
          ]
        }
      ]
    },
    {
      "cell_type": "code",
      "source": [
        "traindata, trainlabel, valdata, vallabel = split(alltraindata, alltrainlabel, 0.6)\n",
        "valpred = NN(traindata, trainlabel, valdata)\n",
        "valAccuracy = Accuracy(vallabel, valpred)\n",
        "print(\"Validation accuracy of nearest neighbour is \", valAccuracy)"
      ],
      "metadata": {
        "colab": {
          "base_uri": "https://localhost:8080/"
        },
        "id": "0pRWEiM_ZOO1",
        "outputId": "f7d12237-3dfe-4135-d4c6-00d6270f6ed6"
      },
      "execution_count": 21,
      "outputs": [
        {
          "output_type": "stream",
          "name": "stdout",
          "text": [
            "Validation accuracy of nearest neighbour is  0.33839313094142903\n"
          ]
        }
      ]
    },
    {
      "cell_type": "markdown",
      "metadata": {
        "id": "oSOx7U83EKie"
      },
      "source": [
        "You can observe that we had tried with multiple times .\n",
        "We notice that the accuracy is different for each run, but close together.\n",
        "\n",
        "Now let us compare it with the accuracy we get on the test dataset."
      ]
    },
    {
      "cell_type": "code",
      "metadata": {
        "id": "PNEZ5ToYBEDW",
        "colab": {
          "base_uri": "https://localhost:8080/"
        },
        "outputId": "45642cfe-0aa0-4fea-c233-efaa83155cc5"
      },
      "source": [
        "testpred = NN(alltraindata, alltrainlabel, testdata)\n",
        "testAccuracy = Accuracy(testlabel, testpred)\n",
        "print('Test accuracy is ', testAccuracy)"
      ],
      "execution_count": 22,
      "outputs": [
        {
          "output_type": "stream",
          "name": "stdout",
          "text": [
            "Test accuracy is  0.34917953667953666\n"
          ]
        }
      ]
    },
    {
      "cell_type": "markdown",
      "metadata": {
        "id": "w3dGD531K3gH"
      },
      "source": [
        "### Try it out for yourself and answer:\n",
        "1. How is the accuracy of the validation set affected if we increase the percentage of validation set? What happens when we reduce it?\n",
        "2. How does the size of the train and validation set affect how well we can predict the accuracy on the test set using the validation set?\n",
        "3. What do you think is a good percentage to reserve for the validation set so that thest two factors are balanced?\n",
        "\n",
        "Answer for both nearest neighbour and random classifier. You can note down the values for your experiments and plot a graph using  <a href=https://matplotlib.org/stable/gallery/lines_bars_and_markers/step_demo.html#sphx-glr-gallery-lines-bars-and-markers-step-demo-py>plt.plot<href>. Check also for extreme values for splits, like 99.9% or 0.1%"
      ]
    },
    {
      "cell_type": "code",
      "source": [
        "validation_set_percentages = np.linspace(0.01, 0.99, 9)  # 1 to 99\n",
        "nn_accuracies = []\n",
        "random_accuracies = []\n",
        "\n",
        "for validation_percentage in validation_set_percentages:\n",
        "    # Splitting the dataset into training and validation sets\n",
        "    traindata,trainlabel,valdata,vallabel = split(alltraindata, alltrainlabel, validation_percentage)\n",
        "\n",
        "    # Calculating accuracy for the nearest neighbor classifier\n",
        "    valpred_nn = NN(traindata, trainlabel, valdata)\n",
        "    val_accuracy_nn = Accuracy(vallabel, valpred_nn)\n",
        "    nn_accuracies.append(val_accuracy_nn)\n",
        "\n",
        "    # Calculating accuracy for the random classifier\n",
        "    valpred_random = RandomClassifier(traindata, trainlabel, valdata)\n",
        "    val_accuracy_random = Accuracy(vallabel, valpred_random)\n",
        "    random_accuracies.append(val_accuracy_random)\n"
      ],
      "metadata": {
        "id": "kaA0tANfaXvj"
      },
      "execution_count": 29,
      "outputs": []
    },
    {
      "cell_type": "code",
      "source": [
        "# visulisation\n",
        "plt.figure(figsize=(10, 6))\n",
        "plt.plot(validation_set_percentages * 100, nn_accuracies, label='Nearest Neighbor Classifier',color='red')\n",
        "plt.plot(validation_set_percentages * 100, random_accuracies, label='Random Classifier')\n",
        "plt.xlabel('Validation Set Percentage')\n",
        "plt.ylabel('Accuracy')\n",
        "plt.title('Accuracy vs. Validation Set Percentage')\n",
        "plt.legend()\n",
        "plt.grid(True)\n",
        "plt.show()"
      ],
      "metadata": {
        "colab": {
          "base_uri": "https://localhost:8080/",
          "height": 564
        },
        "id": "_bETisRCaXx3",
        "outputId": "56099029-b714-4b80-bf5b-c58886de6275"
      },
      "execution_count": 32,
      "outputs": [
        {
          "output_type": "display_data",
          "data": {
            "text/plain": [
              "<Figure size 1000x600 with 1 Axes>"
            ],
            "image/png": "[encoded data removed]"
          },
          "metadata": {}
        }
      ]
    },
    {
      "cell_type": "code",
      "source": [
        "# increasing validation model:\n",
        "# As you increase the percentage of the validation set, you provide more data for validation, which leads to more reliable estimate of model's performance on unseen data.\n",
        "# But With a larger validation set, you have less data available for training your model. This results in the model not learning as well from the training data,leading to lower training performance"
      ],
      "metadata": {
        "id": "9a3ntffQaXzj"
      },
      "execution_count": 33,
      "outputs": []
    },
    {
      "cell_type": "code",
      "source": [
        "# Decreasing in Validation Set Percentage:\n",
        "#When you reduce the percentage of the validation set, you allocate more data to the training set.This can lead to better training performance, where the model fits the training data more closely.\n",
        "#However,with a smaller validation set,the estimate of your model's performance on unseen data becomes less reliable."
      ],
      "metadata": {
        "id": "5-d1I9k8e2sa"
      },
      "execution_count": 34,
      "outputs": []
    },
    {
      "cell_type": "code",
      "source": [
        "'''\n",
        "Increasing the validation set percentage generally improves your confidence in the model's ability to generalize but may hurt the training performance.\n",
        "Decreasing the validation set percentage can boost training performance but may result in a less reliable estimate of generalization performance.\n",
        "choosing validation set percentage depends on your specific dataset, the complexity of your model.\n",
        "'''"
      ],
      "metadata": {
        "colab": {
          "base_uri": "https://localhost:8080/",
          "height": 69
        },
        "id": "pm5My8myfw4Z",
        "outputId": "6912dd70-f01d-4462-84d3-9a151e3ee503"
      },
      "execution_count": 35,
      "outputs": [
        {
          "output_type": "execute_result",
          "data": {
            "text/plain": [
              "\"\\nIncreasing the validation set percentage generally improves your confidence in the model's ability to generalize but may hurt the training performance.\\nDecreasing the validation set percentage can boost training performance but may result in a less reliable estimate of generalization performance.\\nchoosing validation set percentage depends on your specific dataset, the complexity of your model.\\n\""
            ],
            "application/vnd.google.colaboratory.intrinsic+json": {
              "type": "string"
            }
          },
          "metadata": {},
          "execution_count": 35
        }
      ]
    },
    {
      "cell_type": "code",
      "source": [
        "\n",
        "'''Large Training Set:\n",
        " A larger training set allows your model to learn from more data, potentially improving its ability to capture underlying patterns in the training data. This can lead to better training performance and potentially better generalization to unseen data (including the validation and test sets).\n",
        " But With a large training set, you may have a smaller validation set. While this can result in a more reliable estimate of your model's performance on the validation set, it may not be representative enough of the test set, leading to less accurate predictions of test set accuracy.\n",
        "\n",
        "Small Training Set:\n",
        "A small training set can allow for a larger validation set, improving the reliability of the validation performance estimate. A larger validation set can provide a better indication of how well the model is likely to generalize.\n",
        "However, a small training set may result in poor training performance, as the model may not have enough data to learn the underlying patterns. This can lead to underfitting.\n",
        "\n",
        "Large Validation Set:\n",
        "A larger validation set can provide a more robust estimate of your model's performance, reducing the variance in the estimate. It can help you better predict how well your model will perform on unseen data.\n",
        "If you allocate a large portion of your data to the validation set, you may have a smaller training set, potentially leading to poorer training performance.\n",
        "\n",
        "Small Validation Set:\n",
        "A small validation set can result in better training performance, as more data is available for training. However, it may provide a less reliable estimate of generalization performance.\n",
        "But The estimate of model performance on unseen data might be less trustworthy with a smaller validation set, potentially leading to overfitting or underestimation of generalization errors.\n",
        "\n",
        "the size of the training and validation sets affects the predictability of accuracy on the test set as a trade-off between training performance and validation performance.\n",
        "Finding the right balance depends on your specific dataset and modeling goals.\n",
        "Techniques like cross-validation can help mitigate some of these challenges by providing more robust estimates of model performance across multiple train-validation splits.\n",
        "'''\n",
        "\n",
        "\n",
        "\n",
        "\n"
      ],
      "metadata": {
        "colab": {
          "base_uri": "https://localhost:8080/",
          "height": 137
        },
        "id": "G4bPj7nPgzcw",
        "outputId": "178db6eb-0fea-45b4-f251-0ee969010836"
      },
      "execution_count": 36,
      "outputs": [
        {
          "output_type": "execute_result",
          "data": {
            "text/plain": [
              "\"Large Training Set:\\n A larger training set allows your model to learn from more data, potentially improving its ability to capture underlying patterns in the training data. This can lead to better training performance and potentially better generalization to unseen data (including the validation and test sets).\\n But With a large training set, you may have a smaller validation set. While this can result in a more reliable estimate of your model's performance on the validation set, it may not be representative enough of the test set, leading to less accurate predictions of test set accuracy.\\n\\nSmall Training Set:\\nA small training set can allow for a larger validation set, improving the reliability of the validation performance estimate. A larger validation set can provide a better indication of how well the model is likely to generalize.\\nHowever, a small training set may result in poor training performance, as the model may not have enough data to learn the underlying patterns. This can lead to underfitting.\\n\\nLarge Validation Set:\\nA larger validation set can provide a more robust estimate of your model's performance, reducing the variance in the estimate. It can help you better predict how well your model will perform on unseen data.\\nIf you allocate a large portion of your data to the validation set, you may have a smaller training set, potentially leading to poorer training performance.\\n\\nSmall Validation Set:\\nA small validation set can result in better training performance, as more data is available for training. However, it may provide a less reliable estimate of generalization performance.\\nBut The estimate of model performance on unseen data might be less trustworthy with a smaller validation set, potentially leading to overfitting or underestimation of generalization errors.\\n\\nthe size of the training and validation sets affects the predictability of accuracy on the test set as a trade-off between training performance and validation performance.\\nFinding the right balance depends on your specific dataset and modeling goals.\\nTechniques like cross-validation can help mitigate some of these challenges by providing more robust estimates of model performance across multiple train-validation splits.\\n\""
            ],
            "application/vnd.google.colaboratory.intrinsic+json": {
              "type": "string"
            }
          },
          "metadata": {},
          "execution_count": 36
        }
      ]
    },
    {
      "cell_type": "code",
      "source": [
        "'''\n",
        "The choice of an appropriate percentage to reserve for the validation set depends on various factors, including the size of your dataset, the complexity of your model\n",
        "*using cross-validation techniques like k-fold cross-validation or stratified sampling, helping how well your model generalizes\n",
        "*If you have a large dataset, you can allocate a larger percentage to the validation set. A larger validation set allows for a more reliable estimate of model performance.\n",
        "*For smaller datasets,it's advisable to allocate a smaller percentage to the validation set to ensure you have sufficient data for training. You might consider using techniques like k-fold cross-validation.\n",
        "*Avoid extreme values like 0.01 or 0.99 which leads to overfitting\n",
        "*trail and error, It's a good practice to experiment with different validation set percentages and observe how your model's performance changes.\n",
        "'''"
      ],
      "metadata": {
        "colab": {
          "base_uri": "https://localhost:8080/",
          "height": 120
        },
        "id": "T627ffoOiamm",
        "outputId": "6ae637b6-35a1-4af5-849c-8d9727da3dc7"
      },
      "execution_count": 38,
      "outputs": [
        {
          "output_type": "execute_result",
          "data": {
            "text/plain": [
              "\"\\nThe choice of an appropriate percentage to reserve for the validation set depends on various factors, including the size of your dataset, the complexity of your model\\n*using cross-validation techniques like k-fold cross-validation or stratified sampling, helping how well your model generalizes\\n*If you have a large dataset, you can allocate a larger percentage to the validation set. A larger validation set allows for a more reliable estimate of model performance. \\n*For smaller datasets,it's advisable to allocate a smaller percentage to the validation set to ensure you have sufficient data for training. You might consider using techniques like k-fold cross-validation.\\n*Avoid extreme values like 0.01 or 0.99 which leads to overfitting\\n*trail and error, It's a good practice to experiment with different validation set percentages and observe how your model's performance changes. \\n\""
            ],
            "application/vnd.google.colaboratory.intrinsic+json": {
              "type": "string"
            }
          },
          "metadata": {},
          "execution_count": 38
        }
      ]
    },
    {
      "cell_type": "markdown",
      "metadata": {
        "id": "PnYvkAZLQY7h"
      },
      "source": [
        "## Multiple Splits\n",
        "\n",
        "One way to get more accurate estimates for the test accuracy is by using <b>crossvalidation</b>. Here, we will try a simple version, where we do multiple train/val splits and take the average of validation accuracies as the test accuracy estimation. Here is a function for doing this. Note that this function will take a long time to execute."
      ]
    },
    {
      "cell_type": "code",
      "metadata": {
        "id": "E4nGCUQXBTzo"
      },
      "source": [
        "# you can use this function for random classifier also\n",
        "def AverageAccuracy(alldata, alllabel, splitpercent, iterations, classifier=NN):\n",
        "  accuracy = 0\n",
        "  for ii in range(iterations):\n",
        "    traindata, trainlabel, valdata, vallabel = split(alldata, alllabel, splitpercent)\n",
        "    valpred = classifier(traindata, trainlabel, valdata)\n",
        "    accuracy += Accuracy(vallabel, valpred)\n",
        "  return accuracy/iterations # average of all accuracies"
      ],
      "execution_count": 41,
      "outputs": []
    },
    {
      "cell_type": "code",
      "metadata": {
        "id": "H3qtNar7Bbik",
        "colab": {
          "base_uri": "https://localhost:8080/"
        },
        "outputId": "f9394d94-3dfc-47b4-c600-39ec973559e1"
      },
      "source": [
        "print('Average validation accuracy is ', AverageAccuracy(alltraindata, alltrainlabel, 75/100, 10, classifier=NN))\n",
        "testpred = NN(alltraindata, alltrainlabel, testdata)\n",
        "print('test accuracy is ',Accuracy(testlabel, testpred) )"
      ],
      "execution_count": 42,
      "outputs": [
        {
          "output_type": "stream",
          "name": "stdout",
          "text": [
            "Average validation accuracy is  0.3411504387657088\n",
            "test accuracy is  0.8476190476190476\n"
          ]
        }
      ]
    },
    {
      "cell_type": "markdown",
      "metadata": {
        "id": "33GIn4x5VH-d"
      },
      "source": [
        "This is a very simple way of doing cross-validation. There are many well-known algorithms for cross-validation, like k-fold cross-validation, leave-one-out etc.  For more information about cross-validation, check <a href=https://en.wikipedia.org/wiki/Cross-validation_(statistics)>Cross-validatioin (Wikipedia)</a>\n",
        "\n",
        "### Questions\n",
        "1. Does averaging the validation accuracy across multiple splits give more consistent results?\n",
        "2. Does it give more accurate estimate of test accuracy?\n",
        "3. What is the effect of the number of iterations on the estimate? Do we get a better estimate with higher iterations?\n",
        "4. Consider the results you got for the previous questions. Can we deal with a very small train dataset or validation dataset by increasing the iterations?\n"
      ]
    },
    {
      "cell_type": "code",
      "source": [
        "'''\n",
        "1.\n",
        "Yes, averaging the validation accuracy across multiple splits (using k-fold cross-validation) typically gives more consistent and reliable results compared to using a single validation set.\n",
        "*It provides more robust and consistent results, reduces the impact of randomness, and gives you a better understanding of how your model is likely to perform on unseen data.\n",
        "* It is particularly valuable when you want to make more confident decisions about model selection, hyperparameter tuning, and assessing generalization performance.\n",
        "\n",
        "2.\n",
        "By averaging validation accuracy over multiple folds in cross-validation, you obtain a more reliable estimate of how well your model is likely to generalize to unseen data.\n",
        "It helps you assess the model's performance on different parts of your dataset, reducing the risk of overfitting to a single validation set.\n",
        "cross-validation allows you to assess how consistent your model's performance is across different data subsets.\n",
        "\n",
        "3.\n",
        "*for fewer iterations ( smaller k values) can make cross-validation computationally less expensive and faster, especially when you have a large dataset or complex models.\n",
        "With a smaller number of iterations, you have fewer opportunities to assess your model's performance on different subsets of the data. This can lead to a less stable estimate of model performance.\n",
        "\n",
        "*for more iterations (larger k values) provides a more thorough and robust estimate of your model's generalization performance. It allows you to assess the model's performance on a larger variety of data subsets.\n",
        "While more iterations provide a better estimate,but with increased computational cost. Training and evaluating the model multiple times can be time-consuming, especially when working with large datasets or complex models.\n",
        "\n",
        "common choice is 5 or 10 fold based on computation resources available.\n",
        "\n",
        "4. results in k-1\n",
        "  Average validation accuracy is  0.3411504387657088\n",
        "test accuracy is  0.8476190476190476\n",
        "'''\n"
      ],
      "metadata": {
        "colab": {
          "base_uri": "https://localhost:8080/",
          "height": 137
        },
        "id": "tFSqYwNOkSKY",
        "outputId": "40b0e64b-6b41-4c44-c330-fad034f6fb82"
      },
      "execution_count": 44,
      "outputs": [
        {
          "output_type": "execute_result",
          "data": {
            "text/plain": [
              "\"\\n1.\\nYes, averaging the validation accuracy across multiple splits (using k-fold cross-validation) typically gives more consistent and reliable results compared to using a single validation set.\\n*It provides more robust and consistent results, reduces the impact of randomness, and gives you a better understanding of how your model is likely to perform on unseen data.\\n* It is particularly valuable when you want to make more confident decisions about model selection, hyperparameter tuning, and assessing generalization performance.\\n\\n2.\\nBy averaging validation accuracy over multiple folds in cross-validation, you obtain a more reliable estimate of how well your model is likely to generalize to unseen data.\\nIt helps you assess the model's performance on different parts of your dataset, reducing the risk of overfitting to a single validation set.\\ncross-validation allows you to assess how consistent your model's performance is across different data subsets.\\n\\n3.\\n*for fewer iterations ( smaller k values) can make cross-validation computationally less expensive and faster, especially when you have a large dataset or complex models.\\nWith a smaller number of iterations, you have fewer opportunities to assess your model's performance on different subsets of the data. This can lead to a less stable estimate of model performance.\\n\\n*for more iterations (larger k values) provides a more thorough and robust estimate of your model's generalization performance. It allows you to assess the model's performance on a larger variety of data subsets.\\nWhile more iterations provide a better estimate,but with increased computational cost. Training and evaluating the model multiple times can be time-consuming, especially when working with large datasets or complex models.\\n\\ncommon choice is 5 or 10 fold based on computation resources available. \\n\\n4. results in k-1\\n  Average validation accuracy is  0.3411504387657088\\ntest accuracy is  0.8476190476190476\\n\""
            ],
            "application/vnd.google.colaboratory.intrinsic+json": {
              "type": "string"
            }
          },
          "metadata": {},
          "execution_count": 44
        }
      ]
    },
    {
      "cell_type": "code",
      "source": [
        "# Function to calculate average accuracy with increase in iterations\n",
        "def AverageAccuracyWithIncreasedIterations(alldata, alllabel, splitpercent, iterations, classifier=NN):\n",
        "    total_accuracy = 0\n",
        "    for _ in range(iterations):\n",
        "        # Split the data into training and validation sets\n",
        "        traindata, trainlabel, valdata, vallabel = split(alldata, alllabel, splitpercent)\n",
        "\n",
        "        # Train and evaluate the classifier\n",
        "        valpred = classifier(traindata, trainlabel, valdata)\n",
        "\n",
        "        # Calculate and accumulate accuracy\n",
        "        accuracy = Accuracy(vallabel, valpred)\n",
        "        total_accuracy += accuracy\n",
        "\n",
        "    # Calculate the average accuracy over iterations\n",
        "    average_accuracy = total_accuracy / iterations\n",
        "\n",
        "    return average_accuracy\n",
        "\n",
        "# trying with increased iterations\n",
        "small_train_accuracy = AverageAccuracyWithIncreasedIterations(alltraindata, alltrainlabel, 0.75, 50, classifier=NN)\n",
        "print(f\"Average Validation Accuracy with Increased Iterations: {small_train_accuracy}\")\n"
      ],
      "metadata": {
        "colab": {
          "base_uri": "https://localhost:8080/"
        },
        "id": "_cNym29GnZxl",
        "outputId": "e9d82226-bbad-4c3c-a55e-3dbb91e2d15b"
      },
      "execution_count": 46,
      "outputs": [
        {
          "output_type": "stream",
          "name": "stdout",
          "text": [
            "Average Validation Accuracy with Increased Iterations: 0.3403142072650367\n"
          ]
        }
      ]
    },
    {
      "cell_type": "code",
      "source": [
        "# we can see there's no much change in accuracy but usually if you have a very small training or validation dataset, you can improve the stability and reliability of your model's performance estimate by increasing the number of iterations (cross-validation folds) when evaluating the model."
      ],
      "metadata": {
        "id": "fUl42jCCo9uQ"
      },
      "execution_count": 47,
      "outputs": []
    },
    {
      "cell_type": "code",
      "source": [],
      "metadata": {
        "id": "V7H46PWEq-J6"
      },
      "execution_count": null,
      "outputs": []
    }
  ]
}